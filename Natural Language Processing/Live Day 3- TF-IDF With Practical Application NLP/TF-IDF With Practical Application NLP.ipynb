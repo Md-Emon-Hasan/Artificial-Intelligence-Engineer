{
 "cells": [
  {
   "cell_type": "code",
   "execution_count": 3,
   "metadata": {},
   "outputs": [],
   "source": [
    "paragraph = '''\n",
    "    Narendra Damodardas Modi (Gujarati: [ˈnəɾendɾə dɑmodəɾˈdɑs ˈmodiː] (listen); born 17 September 1950)[b] is an Indian politician who has served as the 14th Prime Minister of India since May 2014. Modi was the Chief Minister of Gujarat from 2001 to 2014 and is the Member of Parliament (MP) for Varanasi. He is a member of the Bharatiya Janata Party (BJP) and of the Rashtriya Swayamsevak Sangh (RSS), a right-wing Hindu nationalist paramilitary volunteer organisation. He is the longest-serving prime minister from outside the Indian National Congress.Modi was born and raised in Vadnagar in northeastern Gujarat, where he completed his secondary education. He was introduced to the RSS at age eight. His account of helping his father sell tea at the Vadnagar railway station has not been reliably corroborated. At age 18, he was married to Jashodaben Modi, whom he abandoned soon after, only publicly acknowledging her four decades later when legally required to do so. Modi became a full-time worker for the RSS in Gujarat in 1971. The RSS assigned him to the BJP in 1985 and he held several positions within the party hierarchy until 2001, rising to the rank of general secretary.[c] \n",
    "'''"
   ]
  },
  {
   "cell_type": "code",
   "execution_count": 4,
   "metadata": {},
   "outputs": [
    {
     "data": {
      "text/plain": [
       "'\\n    Narendra Damodardas Modi (Gujarati: [ˈnəɾendɾə dɑmodəɾˈdɑs ˈmodiː] (listen); born 17 September 1950)[b] is an Indian politician who has served as the 14th Prime Minister of India since May 2014. Modi was the Chief Minister of Gujarat from 2001 to 2014 and is the Member of Parliament (MP) for Varanasi. He is a member of the Bharatiya Janata Party (BJP) and of the Rashtriya Swayamsevak Sangh (RSS), a right-wing Hindu nationalist paramilitary volunteer organisation. He is the longest-serving prime minister from outside the Indian National Congress.Modi was born and raised in Vadnagar in northeastern Gujarat, where he completed his secondary education. He was introduced to the RSS at age eight. His account of helping his father sell tea at the Vadnagar railway station has not been reliably corroborated. At age 18, he was married to Jashodaben Modi, whom he abandoned soon after, only publicly acknowledging her four decades later when legally required to do so. Modi became a full-time worker for the RSS in Gujarat in 1971. The RSS assigned him to the BJP in 1985 and he held several positions within the party hierarchy until 2001, rising to the rank of general secretary.[c] \\n'"
      ]
     },
     "execution_count": 4,
     "metadata": {},
     "output_type": "execute_result"
    }
   ],
   "source": [
    "paragraph"
   ]
  },
  {
   "cell_type": "code",
   "execution_count": 5,
   "metadata": {},
   "outputs": [],
   "source": [
    "import nltk\n",
    "from nltk.stem.porter import PorterStemmer\n",
    "from nltk.corpus import stopwords"
   ]
  },
  {
   "cell_type": "code",
   "execution_count": 6,
   "metadata": {},
   "outputs": [
    {
     "name": "stderr",
     "output_type": "stream",
     "text": [
      "[nltk_data] Downloading package punkt to\n",
      "[nltk_data]     C:\\Users\\emon1\\AppData\\Roaming\\nltk_data...\n",
      "[nltk_data]   Package punkt is already up-to-date!\n"
     ]
    },
    {
     "data": {
      "text/plain": [
       "['\\n    Narendra Damodardas Modi (Gujarati: [ˈnəɾendɾə dɑmodəɾˈdɑs ˈmodiː] (listen); born 17 September 1950)[b] is an Indian politician who has served as the 14th Prime Minister of India since May 2014.',\n",
       " 'Modi was the Chief Minister of Gujarat from 2001 to 2014 and is the Member of Parliament (MP) for Varanasi.',\n",
       " 'He is a member of the Bharatiya Janata Party (BJP) and of the Rashtriya Swayamsevak Sangh (RSS), a right-wing Hindu nationalist paramilitary volunteer organisation.',\n",
       " 'He is the longest-serving prime minister from outside the Indian National Congress.Modi was born and raised in Vadnagar in northeastern Gujarat, where he completed his secondary education.',\n",
       " 'He was introduced to the RSS at age eight.',\n",
       " 'His account of helping his father sell tea at the Vadnagar railway station has not been reliably corroborated.',\n",
       " 'At age 18, he was married to Jashodaben Modi, whom he abandoned soon after, only publicly acknowledging her four decades later when legally required to do so.',\n",
       " 'Modi became a full-time worker for the RSS in Gujarat in 1971.',\n",
       " 'The RSS assigned him to the BJP in 1985 and he held several positions within the party hierarchy until 2001, rising to the rank of general secretary.',\n",
       " '[c]']"
      ]
     },
     "execution_count": 6,
     "metadata": {},
     "output_type": "execute_result"
    }
   ],
   "source": [
    "# tokeniziation -- converts paragraph to sentecnes\n",
    "nltk.download('punkt')\n",
    "sentences = nltk.sent_tokenize(paragraph)\n",
    "sentences"
   ]
  },
  {
   "cell_type": "code",
   "execution_count": 7,
   "metadata": {},
   "outputs": [
    {
     "data": {
      "text/plain": [
       "10"
      ]
     },
     "execution_count": 7,
     "metadata": {},
     "output_type": "execute_result"
    }
   ],
   "source": [
    "len(sentences)"
   ]
  },
  {
   "cell_type": "code",
   "execution_count": 8,
   "metadata": {},
   "outputs": [
    {
     "data": {
      "text/plain": [
       "list"
      ]
     },
     "execution_count": 8,
     "metadata": {},
     "output_type": "execute_result"
    }
   ],
   "source": [
    "type(sentences)"
   ]
  },
  {
   "cell_type": "code",
   "execution_count": 9,
   "metadata": {},
   "outputs": [
    {
     "data": {
      "text/plain": [
       "'\\n    Narendra Damodardas Modi (Gujarati: [ˈnəɾendɾə dɑmodəɾˈdɑs ˈmodiː] (listen); born 17 September 1950)[b] is an Indian politician who has served as the 14th Prime Minister of India since May 2014.'"
      ]
     },
     "execution_count": 9,
     "metadata": {},
     "output_type": "execute_result"
    }
   ],
   "source": [
    "sentences[0]"
   ]
  },
  {
   "cell_type": "code",
   "execution_count": 10,
   "metadata": {},
   "outputs": [],
   "source": [
    "stemmer = PorterStemmer()"
   ]
  },
  {
   "cell_type": "code",
   "execution_count": 11,
   "metadata": {},
   "outputs": [
    {
     "data": {
      "text/plain": [
       "'facial'"
      ]
     },
     "execution_count": 11,
     "metadata": {},
     "output_type": "execute_result"
    }
   ],
   "source": [
    "stemmer.stem('facial')"
   ]
  },
  {
   "cell_type": "code",
   "execution_count": 12,
   "metadata": {},
   "outputs": [
    {
     "data": {
      "text/plain": [
       "'drink'"
      ]
     },
     "execution_count": 12,
     "metadata": {},
     "output_type": "execute_result"
    }
   ],
   "source": [
    "stemmer.stem('drinking')"
   ]
  },
  {
   "cell_type": "code",
   "execution_count": 14,
   "metadata": {},
   "outputs": [],
   "source": [
    "from nltk.stem import WordNetLemmatizer"
   ]
  },
  {
   "cell_type": "code",
   "execution_count": 15,
   "metadata": {},
   "outputs": [],
   "source": [
    "lemmatizer = WordNetLemmatizer()"
   ]
  },
  {
   "cell_type": "code",
   "execution_count": 16,
   "metadata": {},
   "outputs": [
    {
     "data": {
      "text/plain": [
       "'history'"
      ]
     },
     "execution_count": 16,
     "metadata": {},
     "output_type": "execute_result"
    }
   ],
   "source": [
    "lemmatizer.lemmatize('history')"
   ]
  },
  {
   "cell_type": "code",
   "execution_count": 17,
   "metadata": {},
   "outputs": [
    {
     "data": {
      "text/plain": [
       "'going'"
      ]
     },
     "execution_count": 17,
     "metadata": {},
     "output_type": "execute_result"
    }
   ],
   "source": [
    "lemmatizer.lemmatize('going')"
   ]
  },
  {
   "cell_type": "code",
   "execution_count": 20,
   "metadata": {},
   "outputs": [
    {
     "data": {
      "text/plain": [
       "'drink'"
      ]
     },
     "execution_count": 20,
     "metadata": {},
     "output_type": "execute_result"
    }
   ],
   "source": [
    "lemmatizer.lemmatize('drinks')"
   ]
  },
  {
   "cell_type": "code",
   "execution_count": 21,
   "metadata": {},
   "outputs": [
    {
     "data": {
      "text/plain": [
       "'go'"
      ]
     },
     "execution_count": 21,
     "metadata": {},
     "output_type": "execute_result"
    }
   ],
   "source": [
    "lemmatizer.lemmatize('goes')"
   ]
  },
  {
   "cell_type": "code",
   "execution_count": 22,
   "metadata": {},
   "outputs": [
    {
     "data": {
      "text/plain": [
       "['narendra damodarda modi gujarati n end mod modi listen born septemb b indian politician serv th prime minist india sinc may',\n",
       " 'modi chief minist gujarat member parliament mp varanasi',\n",
       " 'member bharatiya janata parti bjp rashtriya swayamsevak sangh rss right wing hindu nationalist paramilitari volunt organis',\n",
       " 'longest serv prime minist outsid indian nation congress modi born rais vadnagar northeastern gujarat complet secondari educ',\n",
       " 'introduc rss age eight',\n",
       " 'account help father sell tea vadnagar railway station reliabl corrobor',\n",
       " 'age marri jashodaben modi abandon soon publicli acknowledg four decad later legal requir',\n",
       " 'modi becam full time worker rss gujarat',\n",
       " 'rss assign bjp held sever posit within parti hierarchi rise rank gener secretari',\n",
       " 'c']"
      ]
     },
     "execution_count": 22,
     "metadata": {},
     "output_type": "execute_result"
    }
   ],
   "source": [
    "import re\n",
    "\n",
    "# stemming\n",
    "corpus = []\n",
    "for i in range(len(sentences)):\n",
    "    review = re.sub('[^a-zA-Z]',' ',sentences[i])\n",
    "    review = review.lower()\n",
    "    review = review.split()\n",
    "    review = [stemmer.stem(word) for word in review if not word in set(stopwords.words('english'))]\n",
    "    review = ' '.join(review)\n",
    "    corpus.append(review)\n",
    "corpus"
   ]
  },
  {
   "cell_type": "code",
   "execution_count": 23,
   "metadata": {},
   "outputs": [
    {
     "data": {
      "text/plain": [
       "['narendra damodardas modi gujarati n end mod modi listen born september b indian politician served th prime minister india since may',\n",
       " 'modi chief minister gujarat member parliament mp varanasi',\n",
       " 'member bharatiya janata party bjp rashtriya swayamsevak sangh r right wing hindu nationalist paramilitary volunteer organisation',\n",
       " 'longest serving prime minister outside indian national congress modi born raised vadnagar northeastern gujarat completed secondary education',\n",
       " 'introduced r age eight',\n",
       " 'account helping father sell tea vadnagar railway station reliably corroborated',\n",
       " 'age married jashodaben modi abandoned soon publicly acknowledging four decade later legally required',\n",
       " 'modi became full time worker r gujarat',\n",
       " 'r assigned bjp held several position within party hierarchy rising rank general secretary',\n",
       " 'c']"
      ]
     },
     "execution_count": 23,
     "metadata": {},
     "output_type": "execute_result"
    }
   ],
   "source": [
    "# lemmatization\n",
    "corpus = []\n",
    "for i in range(len(sentences)):\n",
    "    review = re.sub('[^a-zA-Z]',' ',sentences[i])\n",
    "    review = review.lower()\n",
    "    review = review.split()\n",
    "    review = [lemmatizer.lemmatize(word) for word in review if not word in set(stopwords.words('english'))]\n",
    "    review = ' '.join(review)\n",
    "    corpus.append(review)\n",
    "corpus"
   ]
  },
  {
   "cell_type": "code",
   "execution_count": 24,
   "metadata": {},
   "outputs": [],
   "source": [
    "from sklearn.feature_extraction.text import CountVectorizer\n",
    "\n",
    "# cv = CountVectorizer(binary=True,ngram_range=(2,3))\n",
    "cv = CountVectorizer(binary=True,ngram_range=(2,3))"
   ]
  },
  {
   "cell_type": "code",
   "execution_count": 25,
   "metadata": {},
   "outputs": [],
   "source": [
    "x = cv.fit_transform(corpus)"
   ]
  },
  {
   "cell_type": "code",
   "execution_count": 26,
   "metadata": {},
   "outputs": [
    {
     "data": {
      "text/plain": [
       "{'narendra damodardas': 102,\n",
       " 'damodardas modi': 29,\n",
       " 'modi gujarati': 97,\n",
       " 'gujarati end': 46,\n",
       " 'end mod': 33,\n",
       " 'mod modi': 87,\n",
       " 'modi listen': 99,\n",
       " 'listen born': 71,\n",
       " 'born september': 21,\n",
       " 'september indian': 147,\n",
       " 'indian politician': 60,\n",
       " 'politician served': 120,\n",
       " 'served th': 149,\n",
       " 'th prime': 164,\n",
       " 'prime minister': 124,\n",
       " 'minister india': 83,\n",
       " 'india since': 56,\n",
       " 'since may': 155,\n",
       " 'narendra damodardas modi': 103,\n",
       " 'damodardas modi gujarati': 30,\n",
       " 'modi gujarati end': 98,\n",
       " 'gujarati end mod': 47,\n",
       " 'end mod modi': 34,\n",
       " 'mod modi listen': 88,\n",
       " 'modi listen born': 100,\n",
       " 'listen born september': 72,\n",
       " 'born september indian': 22,\n",
       " 'september indian politician': 148,\n",
       " 'indian politician served': 61,\n",
       " 'politician served th': 121,\n",
       " 'served th prime': 150,\n",
       " 'th prime minister': 165,\n",
       " 'prime minister india': 125,\n",
       " 'minister india since': 84,\n",
       " 'india since may': 57,\n",
       " 'modi chief': 95,\n",
       " 'chief minister': 23,\n",
       " 'minister gujarat': 81,\n",
       " 'gujarat member': 44,\n",
       " 'member parliament': 79,\n",
       " 'parliament mp': 114,\n",
       " 'mp varanasi': 101,\n",
       " 'modi chief minister': 96,\n",
       " 'chief minister gujarat': 24,\n",
       " 'minister gujarat member': 82,\n",
       " 'gujarat member parliament': 45,\n",
       " 'member parliament mp': 80,\n",
       " 'parliament mp varanasi': 115,\n",
       " 'member bharatiya': 77,\n",
       " 'bharatiya janata': 13,\n",
       " 'janata party': 64,\n",
       " 'party bjp': 116,\n",
       " 'bjp rashtriya': 17,\n",
       " 'rashtriya swayamsevak': 135,\n",
       " 'swayamsevak sangh': 160,\n",
       " 'sangh right': 142,\n",
       " 'right wing': 138,\n",
       " 'wing hindu': 173,\n",
       " 'hindu nationalist': 54,\n",
       " 'nationalist paramilitary': 106,\n",
       " 'paramilitary volunteer': 112,\n",
       " 'volunteer organisation': 172,\n",
       " 'member bharatiya janata': 78,\n",
       " 'bharatiya janata party': 14,\n",
       " 'janata party bjp': 65,\n",
       " 'party bjp rashtriya': 117,\n",
       " 'bjp rashtriya swayamsevak': 18,\n",
       " 'rashtriya swayamsevak sangh': 136,\n",
       " 'swayamsevak sangh right': 161,\n",
       " 'sangh right wing': 143,\n",
       " 'right wing hindu': 139,\n",
       " 'wing hindu nationalist': 174,\n",
       " 'hindu nationalist paramilitary': 55,\n",
       " 'nationalist paramilitary volunteer': 107,\n",
       " 'paramilitary volunteer organisation': 113,\n",
       " 'longest serving': 73,\n",
       " 'serving prime': 151,\n",
       " 'minister outside': 85,\n",
       " 'outside indian': 110,\n",
       " 'indian national': 58,\n",
       " 'national congress': 104,\n",
       " 'congress modi': 27,\n",
       " 'modi born': 93,\n",
       " 'born raised': 19,\n",
       " 'raised vadnagar': 131,\n",
       " 'vadnagar northeastern': 168,\n",
       " 'northeastern gujarat': 108,\n",
       " 'gujarat completed': 42,\n",
       " 'completed secondary': 25,\n",
       " 'secondary education': 144,\n",
       " 'longest serving prime': 74,\n",
       " 'serving prime minister': 152,\n",
       " 'prime minister outside': 126,\n",
       " 'minister outside indian': 86,\n",
       " 'outside indian national': 111,\n",
       " 'indian national congress': 59,\n",
       " 'national congress modi': 105,\n",
       " 'congress modi born': 28,\n",
       " 'modi born raised': 94,\n",
       " 'born raised vadnagar': 20,\n",
       " 'raised vadnagar northeastern': 132,\n",
       " 'vadnagar northeastern gujarat': 169,\n",
       " 'northeastern gujarat completed': 109,\n",
       " 'gujarat completed secondary': 43,\n",
       " 'completed secondary education': 26,\n",
       " 'introduced age': 62,\n",
       " 'age eight': 6,\n",
       " 'introduced age eight': 63,\n",
       " 'account helping': 2,\n",
       " 'helping father': 50,\n",
       " 'father sell': 35,\n",
       " 'sell tea': 145,\n",
       " 'tea vadnagar': 162,\n",
       " 'vadnagar railway': 170,\n",
       " 'railway station': 129,\n",
       " 'station reliably': 158,\n",
       " 'reliably corroborated': 137,\n",
       " 'account helping father': 3,\n",
       " 'helping father sell': 51,\n",
       " 'father sell tea': 36,\n",
       " 'sell tea vadnagar': 146,\n",
       " 'tea vadnagar railway': 163,\n",
       " 'vadnagar railway station': 171,\n",
       " 'railway station reliably': 130,\n",
       " 'station reliably corroborated': 159,\n",
       " 'age married': 7,\n",
       " 'married jashodaben': 75,\n",
       " 'jashodaben modi': 66,\n",
       " 'modi abandoned': 89,\n",
       " 'abandoned soon': 0,\n",
       " 'soon publicly': 156,\n",
       " 'publicly acknowledging': 127,\n",
       " 'acknowledging four': 4,\n",
       " 'four decade': 37,\n",
       " 'decade later': 31,\n",
       " 'later legally': 68,\n",
       " 'legally required': 70,\n",
       " 'age married jashodaben': 8,\n",
       " 'married jashodaben modi': 76,\n",
       " 'jashodaben modi abandoned': 67,\n",
       " 'modi abandoned soon': 90,\n",
       " 'abandoned soon publicly': 1,\n",
       " 'soon publicly acknowledging': 157,\n",
       " 'publicly acknowledging four': 128,\n",
       " 'acknowledging four decade': 5,\n",
       " 'four decade later': 38,\n",
       " 'decade later legally': 32,\n",
       " 'later legally required': 69,\n",
       " 'modi became': 91,\n",
       " 'became full': 11,\n",
       " 'full time': 39,\n",
       " 'time worker': 166,\n",
       " 'worker gujarat': 177,\n",
       " 'modi became full': 92,\n",
       " 'became full time': 12,\n",
       " 'full time worker': 40,\n",
       " 'time worker gujarat': 167,\n",
       " 'assigned bjp': 9,\n",
       " 'bjp held': 15,\n",
       " 'held several': 48,\n",
       " 'several position': 153,\n",
       " 'position within': 122,\n",
       " 'within party': 175,\n",
       " 'party hierarchy': 118,\n",
       " 'hierarchy rising': 52,\n",
       " 'rising rank': 140,\n",
       " 'rank general': 133,\n",
       " 'general secretary': 41,\n",
       " 'assigned bjp held': 10,\n",
       " 'bjp held several': 16,\n",
       " 'held several position': 49,\n",
       " 'several position within': 154,\n",
       " 'position within party': 123,\n",
       " 'within party hierarchy': 176,\n",
       " 'party hierarchy rising': 119,\n",
       " 'hierarchy rising rank': 53,\n",
       " 'rising rank general': 141,\n",
       " 'rank general secretary': 134}"
      ]
     },
     "execution_count": 26,
     "metadata": {},
     "output_type": "execute_result"
    }
   ],
   "source": [
    "cv.vocabulary_"
   ]
  },
  {
   "cell_type": "code",
   "execution_count": 27,
   "metadata": {},
   "outputs": [
    {
     "data": {
      "text/plain": [
       "'narendra damodardas modi gujarati n end mod modi listen born september b indian politician served th prime minister india since may'"
      ]
     },
     "execution_count": 27,
     "metadata": {},
     "output_type": "execute_result"
    }
   ],
   "source": [
    "corpus[0]"
   ]
  },
  {
   "cell_type": "code",
   "execution_count": 28,
   "metadata": {},
   "outputs": [
    {
     "data": {
      "text/plain": [
       "array([[0, 0, 0, 0, 0, 0, 0, 0, 0, 0, 0, 0, 0, 0, 0, 0, 0, 0, 0, 0, 0, 1,\n",
       "        1, 0, 0, 0, 0, 0, 0, 1, 1, 0, 0, 1, 1, 0, 0, 0, 0, 0, 0, 0, 0, 0,\n",
       "        0, 0, 1, 1, 0, 0, 0, 0, 0, 0, 0, 0, 1, 1, 0, 0, 1, 1, 0, 0, 0, 0,\n",
       "        0, 0, 0, 0, 0, 1, 1, 0, 0, 0, 0, 0, 0, 0, 0, 0, 0, 1, 1, 0, 0, 1,\n",
       "        1, 0, 0, 0, 0, 0, 0, 0, 0, 1, 1, 1, 1, 0, 1, 1, 0, 0, 0, 0, 0, 0,\n",
       "        0, 0, 0, 0, 0, 0, 0, 0, 0, 0, 1, 1, 0, 0, 1, 1, 0, 0, 0, 0, 0, 0,\n",
       "        0, 0, 0, 0, 0, 0, 0, 0, 0, 0, 0, 0, 0, 0, 0, 1, 1, 1, 1, 0, 0, 0,\n",
       "        0, 1, 0, 0, 0, 0, 0, 0, 0, 0, 1, 1, 0, 0, 0, 0, 0, 0, 0, 0, 0, 0,\n",
       "        0, 0]])"
      ]
     },
     "execution_count": 28,
     "metadata": {},
     "output_type": "execute_result"
    }
   ],
   "source": [
    "x[0].toarray()"
   ]
  },
  {
   "cell_type": "code",
   "execution_count": 29,
   "metadata": {},
   "outputs": [
    {
     "data": {
      "text/plain": [
       "(1, 178)"
      ]
     },
     "execution_count": 29,
     "metadata": {},
     "output_type": "execute_result"
    }
   ],
   "source": [
    "x[0].toarray().shape"
   ]
  },
  {
   "cell_type": "code",
   "execution_count": 30,
   "metadata": {},
   "outputs": [],
   "source": [
    "from sklearn.feature_extraction.text import TfidfVectorizer\n",
    "\n",
    "cv = TfidfVectorizer()\n",
    "x = cv.fit_transform(corpus)"
   ]
  },
  {
   "cell_type": "code",
   "execution_count": 31,
   "metadata": {},
   "outputs": [
    {
     "data": {
      "text/plain": [
       "'narendra damodardas modi gujarati n end mod modi listen born september b indian politician served th prime minister india since may'"
      ]
     },
     "execution_count": 31,
     "metadata": {},
     "output_type": "execute_result"
    }
   ],
   "source": [
    "corpus[0]"
   ]
  },
  {
   "cell_type": "code",
   "execution_count": 32,
   "metadata": {},
   "outputs": [
    {
     "data": {
      "text/plain": [
       "<Compressed Sparse Row sparse matrix of dtype 'float64'\n",
       "\twith 18 stored elements and shape (1, 86)>"
      ]
     },
     "execution_count": 32,
     "metadata": {},
     "output_type": "execute_result"
    }
   ],
   "source": [
    "x[0]"
   ]
  },
  {
   "cell_type": "code",
   "execution_count": 33,
   "metadata": {},
   "outputs": [
    {
     "data": {
      "text/plain": [
       "array([[0.        , 0.        , 0.        , 0.        , 0.        ,\n",
       "        0.        , 0.        , 0.        , 0.20538406, 0.        ,\n",
       "        0.        , 0.        , 0.        , 0.24160234, 0.        ,\n",
       "        0.        , 0.        , 0.24160234, 0.        , 0.        ,\n",
       "        0.        , 0.        , 0.        , 0.24160234, 0.        ,\n",
       "        0.        , 0.        , 0.        , 0.24160234, 0.20538406,\n",
       "        0.        , 0.        , 0.        , 0.        , 0.        ,\n",
       "        0.24160234, 0.        , 0.        , 0.24160234, 0.        ,\n",
       "        0.17968678, 0.24160234, 0.28693701, 0.        , 0.24160234,\n",
       "        0.        , 0.        , 0.        , 0.        , 0.        ,\n",
       "        0.        , 0.        , 0.        , 0.24160234, 0.        ,\n",
       "        0.20538406, 0.        , 0.        , 0.        , 0.        ,\n",
       "        0.        , 0.        , 0.        , 0.        , 0.        ,\n",
       "        0.        , 0.        , 0.        , 0.        , 0.24160234,\n",
       "        0.24160234, 0.        , 0.        , 0.24160234, 0.        ,\n",
       "        0.        , 0.        , 0.        , 0.24160234, 0.        ,\n",
       "        0.        , 0.        , 0.        , 0.        , 0.        ,\n",
       "        0.        ]])"
      ]
     },
     "execution_count": 33,
     "metadata": {},
     "output_type": "execute_result"
    }
   ],
   "source": [
    "x[0].toarray()"
   ]
  }
 ],
 "metadata": {
  "kernelspec": {
   "display_name": "Python 3",
   "language": "python",
   "name": "python3"
  },
  "language_info": {
   "codemirror_mode": {
    "name": "ipython",
    "version": 3
   },
   "file_extension": ".py",
   "mimetype": "text/x-python",
   "name": "python",
   "nbconvert_exporter": "python",
   "pygments_lexer": "ipython3",
   "version": "3.11.4"
  },
  "orig_nbformat": 4
 },
 "nbformat": 4,
 "nbformat_minor": 2
}
